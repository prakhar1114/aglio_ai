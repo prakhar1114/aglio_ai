{
 "cells": [
  {
   "cell_type": "code",
   "execution_count": null,
   "metadata": {},
   "outputs": [],
   "source": [
    "import json\n",
    "import os\n",
    "\n",
    "restaurant_name = \"chianti\"\n",
    "restaurant_file = f\"raw_data/{restaurant_name}.json\"\n",
    "image_dir = f\"image_data/{restaurant_name}\"\n",
    "processed_dir = f\"processed/{restaurant_name}.json\"\n",
    "\n",
    "with open(restaurant_file, \"r\") as f:\n",
    "    restaurant_data = json.load(f)\n",
    "\n",
    "processed_data = []\n",
    "\n",
    "counter = iter(range(100000))\n",
    "for item in restaurant_data:\n",
    "    image_path = os.path.join(image_dir, item['name'].replace(' ', '_').replace('/', '_') + '.png') if item['image_url'] else None\n",
    "    processed_data.append({\n",
    "        \"id\": next(counter),\n",
    "        \"name\": item[\"name\"],\n",
    "        \"category\": item[\"category_2\"],\n",
    "        \"description\": item[\"description\"],\n",
    "        \"price\": item[\"price\"],\n",
    "        \"veg_flag\": item[\"is_vegetarian\"],\n",
    "        \"image_path\": image_path,\n",
    "    })\n",
    "\n",
    "with open(processed_dir, \"w\") as f:\n",
    "    json.dump(processed_data, f)\n"
   ]
  },
  {
   "cell_type": "code",
   "execution_count": null,
   "metadata": {},
   "outputs": [],
   "source": []
  },
  {
   "cell_type": "code",
   "execution_count": null,
   "metadata": {},
   "outputs": [],
   "source": []
  }
 ],
 "metadata": {
  "kernelspec": {
   "display_name": "aglio_ai",
   "language": "python",
   "name": "python3"
  },
  "language_info": {
   "codemirror_mode": {
    "name": "ipython",
    "version": 3
   },
   "file_extension": ".py",
   "mimetype": "text/x-python",
   "name": "python",
   "nbconvert_exporter": "python",
   "pygments_lexer": "ipython3",
   "version": "3.11.11"
  }
 },
 "nbformat": 4,
 "nbformat_minor": 2
}
