{
 "cells": [
  {
   "cell_type": "code",
   "execution_count": 1,
   "id": "a6dc7350",
   "metadata": {},
   "outputs": [
    {
     "name": "stderr",
     "output_type": "stream",
     "text": [
      "/Users/prakharjain/miniconda3/envs/aglio_ai/lib/python3.11/site-packages/tqdm/auto.py:21: TqdmWarning: IProgress not found. Please update jupyter and ipywidgets. See https://ipywidgets.readthedocs.io/en/stable/user_install.html\n",
      "  from .autonotebook import tqdm as notebook_tqdm\n"
     ]
    }
   ],
   "source": [
    "from pathlib import Path\n",
    "import sys\n",
    "\n",
    "sys.path.append(str(\"/Users/prakharjain/code/aglio_ai/backend\"))\n",
    "\n",
    "from dotenv import load_dotenv\n",
    "\n",
    "load_dotenv(\"/Users/prakharjain/code/aglio_ai/backend/.env\")\n",
    "\n",
    "from main import app\n"
   ]
  },
  {
   "cell_type": "code",
   "execution_count": 8,
   "id": "57d1093f",
   "metadata": {},
   "outputs": [
    {
     "name": "stdout",
     "output_type": "stream",
     "text": [
      "{'_sa_instance_state': <sqlalchemy.orm.state.InstanceState object at 0x163249fd0>, 'id': 1, 'slug': 'test_nopos', 'name': 'Test NoPOS', 'require_pass': False, 'is_open': True, 'public_id': 'test_nopos', 'tz': 'Asia/Kolkata', 'api_key': 'def0435915cd'}\n",
      "{'_sa_instance_state': <sqlalchemy.orm.state.InstanceState object at 0x16324a0f0>, 'id': 2, 'slug': 'petpooja', 'name': 'Cafe PetPooja DineIn', 'require_pass': False, 'is_open': True, 'public_id': 'petpooja_dinein', 'tz': 'Asia/Kolkata', 'api_key': '6ec44b86d479'}\n",
      "{'_sa_instance_state': <sqlalchemy.orm.state.InstanceState object at 0x16324a210>, 'id': 3, 'slug': 'petpooja_delivery', 'name': 'Cafe PetPooja Delivery', 'require_pass': False, 'is_open': True, 'public_id': 'petpooja_delivery', 'tz': 'Asia/Kolkata', 'api_key': '8da380c3f6be'}\n",
      "{'_sa_instance_state': <sqlalchemy.orm.state.InstanceState object at 0x16324a330>, 'id': 4, 'slug': 'handcrafted', 'name': 'Cafe Handcrafted', 'require_pass': False, 'is_open': True, 'public_id': 'handcraft', 'tz': 'Asia/Kolkata', 'api_key': 'd6538d646639'}\n",
      "{'_sa_instance_state': <sqlalchemy.orm.state.InstanceState object at 0x16324a450>, 'id': 5, 'slug': 'chianti', 'name': 'Chianti', 'require_pass': False, 'is_open': True, 'public_id': 'chianti', 'tz': 'Asia/Kolkata', 'api_key': '2e0c5d6d203b'}\n"
     ]
    }
   ],
   "source": [
    "from models.schema import get_db, Restaurant\n",
    "\n",
    "db = next(get_db())\n",
    "\n",
    "restaurants = db.query(Restaurant).all()\n",
    "for restaurant in restaurants:\n",
    "    print(vars(restaurant))"
   ]
  },
  {
   "cell_type": "code",
   "execution_count": 11,
   "id": "57caa9f8",
   "metadata": {},
   "outputs": [
    {
     "data": {
      "text/plain": [
       "models.schema.Restaurant"
      ]
     },
     "execution_count": 11,
     "metadata": {},
     "output_type": "execute_result"
    }
   ],
   "source": [
    "Restaurant"
   ]
  },
  {
   "cell_type": "code",
   "execution_count": null,
   "id": "43a221b0",
   "metadata": {},
   "outputs": [],
   "source": []
  }
 ],
 "metadata": {
  "kernelspec": {
   "display_name": "aglio_ai",
   "language": "python",
   "name": "python3"
  },
  "language_info": {
   "codemirror_mode": {
    "name": "ipython",
    "version": 3
   },
   "file_extension": ".py",
   "mimetype": "text/x-python",
   "name": "python",
   "nbconvert_exporter": "python",
   "pygments_lexer": "ipython3",
   "version": "3.11.11"
  }
 },
 "nbformat": 4,
 "nbformat_minor": 5
}
